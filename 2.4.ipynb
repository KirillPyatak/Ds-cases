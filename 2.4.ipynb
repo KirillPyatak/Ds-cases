{
  "cells": [
    {
      "cell_type": "markdown",
      "metadata": {
        "id": "aMiUyc0irdRm"
      },
      "source": [
        "Основные цели этого задания:\n",
        "\n",
        "Попрактиковаться в борьбе с дисбалансом классов\n",
        "\n",
        "Научиться заполнять пропуски в данных\n",
        "\n",
        "Научиться использовать категориальные признаки.\n",
        "\n",
        "Задача: по различным признакам, связанным с заявкой на грант, предсказать, будет ли заявка принята.\n",
        "\n",
        "План решения:\n",
        "\n",
        "Загрузите данные из csv файла. Ознакомьтесь с ними, проверьте наличие пропусков, узнайте типы признаков.\n",
        "\n",
        "Подготовьте данные к обучению моделей:\n",
        "\n",
        "Отделите целевую переменную Grant.Status и выясните, сбалансированы ли классы. Если классы не сбалансированы, используйте в работе хотя бы один из изученных методов борьбы с дисбалансом классов;\n",
        "\n",
        "Заполните пропуски\n",
        "\n",
        "в количественных признаках заполните пропуски средними значениями и нулями (у каждой фичи будет по два варианта),\n",
        "\n",
        "в категориальных признаках выведите значения, которые они принимают, и найдите признак, где пропуски можно заполнить осмысленным значением. В остальных признаках заполните пропуски значением по умолчанию;\n",
        "\n",
        "Преобразуйте категориальные признаки в количественные с помощью прямого кодирования;\n",
        "\n",
        "Разделите данные на обучающую и тестовую части;\n",
        "\n",
        "Используйте масштабирование для получения признаков одинакового масштаба.\n",
        "\n",
        "Обучите модели и выберите лучшую:\n",
        "\n",
        "Обучите модель логистической регрессии, используя кросс-валидацию. Оцените ее качество с помощью метрики rocauc. Выведите топ-10 признаков по важности, согласно обученной модели;\n",
        "\n",
        "Обучите модель случайного леса\n",
        "\n",
        "Для подбора гиперпараметров и кросс-валидации используйте структуру GridSearchCV,\n",
        "\n",
        "Выберите наилучший вариант случайного леса и выведите его параметры,\n",
        "\n",
        "Оцените качество выбранной модели с помощью метрики rocauc,\n",
        "\n",
        "Выведите топ-10 признаков по важности. Используйте атрибут feature_importances_, чтобы узнать важность признаков в деревянных моделях.\n",
        "\n",
        "Напишите вывод, в котором будет содержаться информация о том, какие признаки важны согласно обеим моделям, и какая модель оказалась наилучшей для решения поставленной задачи."
      ]
    },
    {
      "cell_type": "code",
      "execution_count": 2,
      "metadata": {
        "id": "LlNrh2KRrXJq"
      },
      "outputs": [],
      "source": [
        "import pandas as pd\n",
        "import numpy as np\n",
        "from sklearn.model_selection import train_test_split, GridSearchCV\n",
        "from sklearn.preprocessing import StandardScaler, OneHotEncoder\n",
        "from sklearn.impute import SimpleImputer\n",
        "from sklearn.compose import ColumnTransformer\n",
        "from sklearn.pipeline import Pipeline\n",
        "from sklearn.ensemble import RandomForestClassifier\n",
        "from sklearn.linear_model import LogisticRegression\n",
        "from sklearn.metrics import roc_auc_score\n"
      ]
    },
    {
      "cell_type": "code",
      "execution_count": 3,
      "metadata": {
        "colab": {
          "base_uri": "https://localhost:8080/"
        },
        "id": "uIURY2l5rmYU",
        "outputId": "bbdcda26-2013-45cb-e579-8bbfeeb06214"
      },
      "outputs": [
        {
          "output_type": "stream",
          "name": "stdout",
          "text": [
            "   Grant.Status Sponsor.Code Grant.Category.Code  \\\n",
            "0             0          97A                 30B   \n",
            "1             0          36D                 10A   \n",
            "2             0         317A                 30D   \n",
            "3             0          62B                 10B   \n",
            "4             0           1A                 10A   \n",
            "\n",
            "  Contract.Value.Band...see.note.A  RFCD.Code.1  RFCD.Percentage.1  \\\n",
            "0                               A      321024.0               50.0   \n",
            "1                               G      300201.0              100.0   \n",
            "2                              NaN     321013.0              100.0   \n",
            "3                               B      321103.0               30.0   \n",
            "4                              NaN     270603.0               60.0   \n",
            "\n",
            "   RFCD.Code.2  RFCD.Percentage.2  RFCD.Code.3  RFCD.Percentage.3  ...  \\\n",
            "0     321013.0               30.0     291502.0               20.0  ...   \n",
            "1          0.0                0.0          0.0                0.0  ...   \n",
            "2          0.0                0.0          0.0                0.0  ...   \n",
            "3     321105.0               40.0     321204.0               30.0  ...   \n",
            "4     321205.0               30.0     320603.0               10.0  ...   \n",
            "\n",
            "   Dept.No..1  Faculty.No..1  With.PHD.1  \\\n",
            "0      2563.0           25.0        Yes    \n",
            "1      1038.0            1.0         NaN   \n",
            "2      2763.0           25.0        Yes    \n",
            "3      2848.0           25.0         NaN   \n",
            "4      2678.0           25.0        Yes    \n",
            "\n",
            "   No..of.Years.in.Uni.at.Time.of.Grant.1  Number.of.Successful.Grant.1  \\\n",
            "0                               >10 to 15                           2.0   \n",
            "1                             Less than 0                           0.0   \n",
            "2                                >5 to 10                           4.0   \n",
            "3                             Less than 0                           1.0   \n",
            "4                                >5 to 10                           5.0   \n",
            "\n",
            "   Number.of.Unsuccessful.Grant.1  A..1   A.1   B.1   C.1  \n",
            "0                             6.0   3.0   5.0  15.0   3.0  \n",
            "1                             3.0   0.0   4.0   0.0   0.0  \n",
            "2                             3.0   6.0  25.0  14.0  14.0  \n",
            "3                             2.0   1.0   0.0   0.0   0.0  \n",
            "4                            14.0   0.0   9.0   7.0   0.0  \n",
            "\n",
            "[5 rows x 39 columns]\n",
            "<class 'pandas.core.frame.DataFrame'>\n",
            "RangeIndex: 4113 entries, 0 to 4112\n",
            "Data columns (total 39 columns):\n",
            " #   Column                                  Non-Null Count  Dtype  \n",
            "---  ------                                  --------------  -----  \n",
            " 0   Grant.Status                            4113 non-null   int64  \n",
            " 1   Sponsor.Code                            3856 non-null   object \n",
            " 2   Grant.Category.Code                     3856 non-null   object \n",
            " 3   Contract.Value.Band...see.note.A        1953 non-null   object \n",
            " 4   RFCD.Code.1                             3853 non-null   float64\n",
            " 5   RFCD.Percentage.1                       3853 non-null   float64\n",
            " 6   RFCD.Code.2                             3853 non-null   float64\n",
            " 7   RFCD.Percentage.2                       3853 non-null   float64\n",
            " 8   RFCD.Code.3                             3853 non-null   float64\n",
            " 9   RFCD.Percentage.3                       3853 non-null   float64\n",
            " 10  RFCD.Code.4                             3853 non-null   float64\n",
            " 11  RFCD.Percentage.4                       3853 non-null   float64\n",
            " 12  RFCD.Code.5                             3853 non-null   float64\n",
            " 13  RFCD.Percentage.5                       3853 non-null   float64\n",
            " 14  SEO.Code.1                              3837 non-null   float64\n",
            " 15  SEO.Percentage.1                        3837 non-null   float64\n",
            " 16  SEO.Code.2                              3837 non-null   float64\n",
            " 17  SEO.Percentage.2                        3837 non-null   float64\n",
            " 18  SEO.Code.3                              3837 non-null   float64\n",
            " 19  SEO.Percentage.3                        3837 non-null   float64\n",
            " 20  SEO.Code.4                              3837 non-null   float64\n",
            " 21  SEO.Percentage.4                        3837 non-null   float64\n",
            " 22  SEO.Code.5                              3837 non-null   float64\n",
            " 23  SEO.Percentage.5                        3837 non-null   float64\n",
            " 24  Person.ID.1                             3826 non-null   float64\n",
            " 25  Role.1                                  4067 non-null   object \n",
            " 26  Year.of.Birth.1                         3825 non-null   float64\n",
            " 27  Country.of.Birth.1                      3447 non-null   object \n",
            " 28  Home.Language.1                         394 non-null    object \n",
            " 29  Dept.No..1                              3665 non-null   float64\n",
            " 30  Faculty.No..1                           3664 non-null   float64\n",
            " 31  With.PHD.1                              2332 non-null   object \n",
            " 32  No..of.Years.in.Uni.at.Time.of.Grant.1  3354 non-null   object \n",
            " 33  Number.of.Successful.Grant.1            3826 non-null   float64\n",
            " 34  Number.of.Unsuccessful.Grant.1          3826 non-null   float64\n",
            " 35  A..1                                    3826 non-null   float64\n",
            " 36  A.1                                     3826 non-null   float64\n",
            " 37  B.1                                     3826 non-null   float64\n",
            " 38  C.1                                     3826 non-null   float64\n",
            "dtypes: float64(30), int64(1), object(8)\n",
            "memory usage: 1.2+ MB\n",
            "None\n",
            "0    3259\n",
            "1     854\n",
            "Name: Grant.Status, dtype: int64\n"
          ]
        }
      ],
      "source": [
        "# Шаг 1: Загрузка данных и первичный анализ\n",
        "data = pd.read_csv('grant_data_imb.csv')\n",
        "print(data.head())\n",
        "print(data.info())\n",
        "print(data['Grant.Status'].value_counts())\n"
      ]
    },
    {
      "cell_type": "markdown",
      "source": [
        "Датасет состоит из 4113 строк и 39 столбцов.\n",
        "\n",
        "Целевой признак - 'Grant.Status', который указывает, была ли заявка на грант принята (1) или нет (0).\n",
        "\n",
        "Среди признаков есть категориальные (например, 'Sponsor.Code' и 'Grant.Category.Code') и числовые (например, 'RFCD.Code.1', 'RFCD.Percentage.1' и другие).\n",
        "\n",
        "Есть признаки с пропущенными значениями, такие как 'Contract.Value.Band...see.note.A' и 'With.PHD.1'.\n",
        "\n",
        "В столбце 'Grant.Status' классы не сбалансированы, так как большинство заявок были приняты (3259) по сравнению с отклоненными (854)."
      ],
      "metadata": {
        "id": "bET4AWcr7TAK"
      }
    },
    {
      "cell_type": "code",
      "execution_count": 4,
      "metadata": {
        "colab": {
          "base_uri": "https://localhost:8080/"
        },
        "id": "OKvsPZa9r1GP",
        "outputId": "ff604d33-925a-483a-da6d-0ee34b7d6164"
      },
      "outputs": [
        {
          "output_type": "stream",
          "name": "stdout",
          "text": [
            "Баланс классов:\n",
            " 0    0.792366\n",
            "1    0.207634\n",
            "Name: Grant.Status, dtype: float64\n"
          ]
        }
      ],
      "source": [
        "# Шаг 2: Подготовка данных\n",
        "\n",
        "# Разделение на признаки (X) и целевую переменную (y)\n",
        "X = data.drop(columns=['Grant.Status'])\n",
        "y = data['Grant.Status']\n",
        "\n",
        "# Проверка баланса классов\n",
        "class_balance = y.value_counts(normalize=True)\n",
        "print(\"Баланс классов:\\n\", class_balance)"
      ]
    },
    {
      "cell_type": "code",
      "source": [
        "# Шаг 3: Заполнение пропусков\n",
        "\n",
        "# Создание преобразователей для числовых и категориальных признаков\n",
        "numeric_features = X.select_dtypes(include=[np.number]).columns\n",
        "categorical_features = X.select_dtypes(exclude=[np.number]).columns\n",
        "\n",
        "numeric_transformer = Pipeline(steps=[\n",
        "    ('imputer', SimpleImputer(strategy='mean')),\n",
        "    ('scaler', StandardScaler())\n",
        "])\n",
        "\n",
        "categorical_transformer = Pipeline(steps=[\n",
        "    ('imputer', SimpleImputer(strategy='most_frequent')),\n",
        "    ('onehot', OneHotEncoder(handle_unknown='ignore'))\n",
        "])\n",
        "\n",
        "# Объединение преобразованных признаков\n",
        "preprocessor = ColumnTransformer(\n",
        "    transformers=[\n",
        "        ('num', numeric_transformer, numeric_features),\n",
        "        ('cat', categorical_transformer, categorical_features)\n",
        "    ])"
      ],
      "metadata": {
        "id": "A0Pxiakx4JYq"
      },
      "execution_count": 5,
      "outputs": []
    },
    {
      "cell_type": "code",
      "source": [
        "# Шаг 4: Разделение данных на обучающую и тестовую выборки\n",
        "X_train, X_test, y_train, y_test = train_test_split(X, y, test_size=0.2, random_state=42)"
      ],
      "metadata": {
        "id": "GQmxofyv4QR9"
      },
      "execution_count": 6,
      "outputs": []
    },
    {
      "cell_type": "code",
      "execution_count": 8,
      "metadata": {
        "colab": {
          "base_uri": "https://localhost:8080/"
        },
        "id": "NX9jj3VksDgn",
        "outputId": "00c64049-f5aa-4d11-df9a-24dde300f543"
      },
      "outputs": [
        {
          "output_type": "stream",
          "name": "stdout",
          "text": [
            "Модель логистической регрессии ROC AUC: 0.6994294922045119\n",
            "Топ-10 признаков логистической регрессии:\n",
            " Index(['Contract.Value.Band...see.note.A_J ', 'Sponsor.Code_75C',\n",
            "       'Sponsor.Code_34B', 'Sponsor.Code_15C', 'Sponsor.Code_24D',\n",
            "       'Sponsor.Code_62B', 'Sponsor.Code_163C', 'Sponsor.Code_6B',\n",
            "       'Sponsor.Code_36D', 'Sponsor.Code_47C'],\n",
            "      dtype='object')\n"
          ]
        },
        {
          "output_type": "stream",
          "name": "stderr",
          "text": [
            "/usr/local/lib/python3.10/dist-packages/sklearn/linear_model/_logistic.py:458: ConvergenceWarning: lbfgs failed to converge (status=1):\n",
            "STOP: TOTAL NO. of ITERATIONS REACHED LIMIT.\n",
            "\n",
            "Increase the number of iterations (max_iter) or scale the data as shown in:\n",
            "    https://scikit-learn.org/stable/modules/preprocessing.html\n",
            "Please also refer to the documentation for alternative solver options:\n",
            "    https://scikit-learn.org/stable/modules/linear_model.html#logistic-regression\n",
            "  n_iter_i = _check_optimize_result(\n"
          ]
        }
      ],
      "source": [
        "# Шаг 5: Построение моделей\n",
        "\n",
        "# Логистическая регрессия\n",
        "logistic_regression = Pipeline(steps=[('preprocessor', preprocessor),\n",
        "                                      ('classifier', LogisticRegression())])\n",
        "\n",
        "logistic_regression.fit(X_train, y_train)\n",
        "y_pred_lr = logistic_regression.predict(X_test)\n",
        "roc_auc_lr = roc_auc_score(y_test, y_pred_lr)\n",
        "\n",
        "# Важность признаков для логистической регрессии\n",
        "coef_lr = logistic_regression.named_steps['classifier'].coef_\n",
        "feature_names_lr = (numeric_features.tolist() +\n",
        "                     list(logistic_regression.named_steps['preprocessor']\n",
        "                          .named_transformers_['cat'].named_steps['onehot']\n",
        "                          .get_feature_names_out(input_features=categorical_features)))\n",
        "\n",
        "\n",
        "coef_lr = coef_lr.ravel()\n",
        "feature_importance_lr = pd.Series(coef_lr, index=feature_names_lr)\n",
        "top_features_lr = feature_importance_lr.abs().nlargest(10).index\n",
        "\n",
        "print(\"Модель логистической регрессии ROC AUC:\", roc_auc_lr)\n",
        "print(\"Топ-10 признаков логистической регрессии:\\n\", top_features_lr)\n"
      ]
    },
    {
      "cell_type": "code",
      "source": [
        "# Случайный лес\n",
        "param_grid_rf = {\n",
        "    'classifier__n_estimators': [100, 200, 300],\n",
        "    'classifier__max_depth': [10, 20, None]\n",
        "}\n",
        "\n",
        "random_forest = Pipeline(steps=[('preprocessor', preprocessor),\n",
        "                                ('classifier', RandomForestClassifier(random_state=42))])\n",
        "\n",
        "grid_search_rf = GridSearchCV(random_forest, param_grid=param_grid_rf,\n",
        "                              cv=5, scoring='roc_auc', n_jobs=-1)\n",
        "grid_search_rf.fit(X_train, y_train)\n",
        "\n",
        "best_rf = grid_search_rf.best_estimator_\n",
        "roc_auc_rf = grid_search_rf.best_score_\n",
        "best_params_rf = grid_search_rf.best_params_\n",
        "# Важность признаков для случайного леса\n",
        "feature_importance_rf = best_rf.named_steps['classifier'].feature_importances_\n",
        "top_features_rf = [feature_names_lr[i] for i in np.argsort(feature_importance_rf)[::-1][:10]]\n",
        "\n",
        "print(\"Лучшие параметры случайного леса:\", best_params_rf)\n",
        "print(\"ROC AUC для случайного леса:\", roc_auc_rf)\n",
        "print(\"Топ-10 признаков случайного леса:\\n\", top_features_rf)\n"
      ],
      "metadata": {
        "colab": {
          "base_uri": "https://localhost:8080/"
        },
        "id": "sxFRwYSI4YZO",
        "outputId": "7e3e08bb-47e9-4110-9c87-b7bcd9cf0433"
      },
      "execution_count": 9,
      "outputs": [
        {
          "output_type": "stream",
          "name": "stdout",
          "text": [
            "Лучшие параметры случайного леса: {'classifier__max_depth': 20, 'classifier__n_estimators': 300}\n",
            "ROC AUC для случайного леса: 0.9011531988164305\n",
            "Топ-10 признаков случайного леса:\n",
            " ['Number.of.Unsuccessful.Grant.1', 'Number.of.Successful.Grant.1', 'RFCD.Code.1', 'SEO.Code.1', 'Contract.Value.Band...see.note.A_A ', 'Dept.No..1', 'Person.ID.1', 'A.1', 'B.1', 'A..1']\n"
          ]
        }
      ]
    },
    {
      "cell_type": "code",
      "source": [
        "# Шаг 6: Выводы\n",
        "print(\"Наилучшей моделью для данной задачи оказался случайный лес с параметрами:\")\n",
        "print(best_params_rf)\n",
        "print(\"ROC AUC для случайного леса:\", roc_auc_rf)\n",
        "print(\"Топ-10 признаков, важных для обеих моделей:\\n\", top_features_lr.intersection(top_features_rf))"
      ],
      "metadata": {
        "colab": {
          "base_uri": "https://localhost:8080/"
        },
        "id": "sKvMs8bC4edB",
        "outputId": "ab803d6e-412f-495d-ee05-ac524c4dfa53"
      },
      "execution_count": 10,
      "outputs": [
        {
          "output_type": "stream",
          "name": "stdout",
          "text": [
            "Наилучшей моделью для данной задачи оказался случайный лес с параметрами:\n",
            "{'classifier__max_depth': 20, 'classifier__n_estimators': 300}\n",
            "ROC AUC для случайного леса: 0.9011531988164305\n",
            "Топ-10 признаков, важных для обеих моделей:\n",
            " Index([], dtype='object')\n"
          ]
        }
      ]
    }
  ],
  "metadata": {
    "colab": {
      "provenance": []
    },
    "kernelspec": {
      "display_name": "Python 3",
      "name": "python3"
    },
    "language_info": {
      "name": "python"
    }
  },
  "nbformat": 4,
  "nbformat_minor": 0
}