{
 "cells": [
  {
   "cell_type": "code",
   "execution_count": 33,
   "metadata": {},
   "outputs": [],
   "source": [
    "import numpy as np\n",
    "import pandas as pd\n",
    "import random\n",
    "import warnings\n",
    "\n",
    "from scipy import sparse, linalg, stats\n",
    "from scipy.sparse import csr_matrix\n",
    "from scipy.sparse.linalg import svds\n",
    "from sklearn.metrics import roc_auc_score\n",
    "from sklearn.metrics.pairwise import cosine_distances\n",
    "from sklearn.model_selection import train_test_split\n",
    "from time import time"
   ]
  },
  {
   "cell_type": "markdown",
   "metadata": {},
   "source": [
    "    Для решения задачи будем использовать те же данные, которые были использованы в скринкастах:\n",
    "\n",
    "    MovieLens — источник данных.\n",
    "\n",
    "    Предобработанные для обучения данные: история проставления оценок фильмам — ratings_df_sample_2.csv.\n",
    "\n",
    "    Предположим, постановка рейтинга — обязательное по итогам просмотра фильмов действие. Основываясь на этом, сгенерируйте новый целевой признак «факт просмотра фильма пользователем», который будет равен 1 для всех пар пользователь * фильм из подгруженного датасета.\n",
    "\n",
    "    А откуда взять «нолики»? В наших данных есть только пары пользователь * фильм, в которых пользователь точно смотрел фильм. Но для обучения модели нужны так называемые «негативы», то есть, пары, где пользователь фильм не смотрел. На практике приходится сталкиваться с необходимостью генерировать их вручную, давайте потренируемся это делать. \n",
    "\n",
    "    Сначала найдите уникальные id всех пользователей и уникальные id всех фильмов.\n",
    "\n",
    "    С помощью функции random.choice (документация) сгенерируйте случайные пары пользователь * фильм\n",
    "\n",
    "    Поскольку среди сгенерированных пар могут быть и такие, что пользователь в них уже смотрел фильм, сгенерируйте побольше пар, например, удвоенное количество строк из источника. Это может занять пару минут.\n",
    "\n",
    "    Среди сгенерированных пар могут быть и дубликаты, удалите их.\n",
    "\n",
    "    Оставьте среди сгенерированных пар только те, в которых пользователь фильм не смотрел.\n",
    "\n",
    "    Возможно, пар получилось больше, чем нужно, выберите из них столько, сколько у нас строк в исходных данных.\n",
    "\n",
    "    Добавьте очищенные сгенерированные пары к исходным данным. Значение целевого признака в них будет равно нулю. Убедитесь, что у вас не появились дубликаты в датасете.\n",
    "\n"
   ]
  },
  {
   "cell_type": "code",
   "execution_count": 17,
   "metadata": {},
   "outputs": [],
   "source": [
    "warnings.filterwarnings('ignore')"
   ]
  },
  {
   "cell_type": "code",
   "execution_count": 62,
   "metadata": {},
   "outputs": [],
   "source": [
    "RANDOM_STATE = 40"
   ]
  },
  {
   "cell_type": "code",
   "execution_count": 19,
   "metadata": {},
   "outputs": [],
   "source": [
    "data = pd.read_csv('ratings_df_sample_2.csv')"
   ]
  },
  {
   "cell_type": "code",
   "execution_count": 20,
   "metadata": {},
   "outputs": [
    {
     "name": "stdout",
     "output_type": "stream",
     "text": [
      "<class 'pandas.core.frame.DataFrame'>\n",
      "RangeIndex: 6040099 entries, 0 to 6040098\n",
      "Data columns (total 4 columns):\n",
      " #   Column     Dtype  \n",
      "---  ------     -----  \n",
      " 0   userId     int64  \n",
      " 1   movieId    int64  \n",
      " 2   rating     float64\n",
      " 3   timestamp  int64  \n",
      "dtypes: float64(1), int64(3)\n",
      "memory usage: 184.3 MB\n"
     ]
    }
   ],
   "source": [
    "data.info()"
   ]
  },
  {
   "cell_type": "code",
   "execution_count": 21,
   "metadata": {},
   "outputs": [
    {
     "data": {
      "text/plain": [
       "userId       0\n",
       "movieId      0\n",
       "rating       0\n",
       "timestamp    0\n",
       "dtype: int64"
      ]
     },
     "execution_count": 21,
     "metadata": {},
     "output_type": "execute_result"
    }
   ],
   "source": [
    "data.isna().sum() # сумма пустых ячеек"
   ]
  },
  {
   "cell_type": "markdown",
   "metadata": {},
   "source": [
    "всего 6_040_099 строк с данными в 4 столбцах среди которых нет пустых данных\n",
    "для дальйнейшей работы необходимо сгенерировать новые фичи"
   ]
  },
  {
   "cell_type": "code",
   "execution_count": 22,
   "metadata": {},
   "outputs": [],
   "source": [
    "data['watched']=1"
   ]
  },
  {
   "cell_type": "code",
   "execution_count": 23,
   "metadata": {},
   "outputs": [
    {
     "data": {
      "text/html": [
       "<div>\n",
       "<style scoped>\n",
       "    .dataframe tbody tr th:only-of-type {\n",
       "        vertical-align: middle;\n",
       "    }\n",
       "\n",
       "    .dataframe tbody tr th {\n",
       "        vertical-align: top;\n",
       "    }\n",
       "\n",
       "    .dataframe thead th {\n",
       "        text-align: right;\n",
       "    }\n",
       "</style>\n",
       "<table border=\"1\" class=\"dataframe\">\n",
       "  <thead>\n",
       "    <tr style=\"text-align: right;\">\n",
       "      <th></th>\n",
       "      <th>userId</th>\n",
       "      <th>movieId</th>\n",
       "      <th>rating</th>\n",
       "      <th>timestamp</th>\n",
       "      <th>watched</th>\n",
       "    </tr>\n",
       "  </thead>\n",
       "  <tbody>\n",
       "    <tr>\n",
       "      <th>3490113</th>\n",
       "      <td>39579</td>\n",
       "      <td>4973</td>\n",
       "      <td>5.00</td>\n",
       "      <td>1038012572</td>\n",
       "      <td>1</td>\n",
       "    </tr>\n",
       "    <tr>\n",
       "      <th>1861767</th>\n",
       "      <td>77385</td>\n",
       "      <td>7254</td>\n",
       "      <td>4.50</td>\n",
       "      <td>1097076781</td>\n",
       "      <td>1</td>\n",
       "    </tr>\n",
       "    <tr>\n",
       "      <th>5666388</th>\n",
       "      <td>35526</td>\n",
       "      <td>919</td>\n",
       "      <td>5.00</td>\n",
       "      <td>1015027681</td>\n",
       "      <td>1</td>\n",
       "    </tr>\n",
       "    <tr>\n",
       "      <th>1967718</th>\n",
       "      <td>81641</td>\n",
       "      <td>3753</td>\n",
       "      <td>3.00</td>\n",
       "      <td>1281901270</td>\n",
       "      <td>1</td>\n",
       "    </tr>\n",
       "    <tr>\n",
       "      <th>3604981</th>\n",
       "      <td>66362</td>\n",
       "      <td>800</td>\n",
       "      <td>4.00</td>\n",
       "      <td>1314423907</td>\n",
       "      <td>1</td>\n",
       "    </tr>\n",
       "    <tr>\n",
       "      <th>23040</th>\n",
       "      <td>982</td>\n",
       "      <td>4855</td>\n",
       "      <td>4.00</td>\n",
       "      <td>1141549147</td>\n",
       "      <td>1</td>\n",
       "    </tr>\n",
       "    <tr>\n",
       "      <th>1654848</th>\n",
       "      <td>69064</td>\n",
       "      <td>1275</td>\n",
       "      <td>4.00</td>\n",
       "      <td>1375067919</td>\n",
       "      <td>1</td>\n",
       "    </tr>\n",
       "    <tr>\n",
       "      <th>5391502</th>\n",
       "      <td>53601</td>\n",
       "      <td>30749</td>\n",
       "      <td>4.00</td>\n",
       "      <td>1226696078</td>\n",
       "      <td>1</td>\n",
       "    </tr>\n",
       "    <tr>\n",
       "      <th>4544032</th>\n",
       "      <td>64615</td>\n",
       "      <td>74458</td>\n",
       "      <td>4.00</td>\n",
       "      <td>1381524203</td>\n",
       "      <td>1</td>\n",
       "    </tr>\n",
       "    <tr>\n",
       "      <th>5686369</th>\n",
       "      <td>51312</td>\n",
       "      <td>1635</td>\n",
       "      <td>4.00</td>\n",
       "      <td>1166627242</td>\n",
       "      <td>1</td>\n",
       "    </tr>\n",
       "  </tbody>\n",
       "</table>\n",
       "</div>"
      ],
      "text/plain": [
       "         userId  movieId  rating   timestamp  watched\n",
       "3490113   39579     4973    5.00  1038012572        1\n",
       "1861767   77385     7254    4.50  1097076781        1\n",
       "5666388   35526      919    5.00  1015027681        1\n",
       "1967718   81641     3753    3.00  1281901270        1\n",
       "3604981   66362      800    4.00  1314423907        1\n",
       "23040       982     4855    4.00  1141549147        1\n",
       "1654848   69064     1275    4.00  1375067919        1\n",
       "5391502   53601    30749    4.00  1226696078        1\n",
       "4544032   64615    74458    4.00  1381524203        1\n",
       "5686369   51312     1635    4.00  1166627242        1"
      ]
     },
     "execution_count": 23,
     "metadata": {},
     "output_type": "execute_result"
    }
   ],
   "source": [
    "data.sample(10)"
   ]
  },
  {
   "cell_type": "code",
   "execution_count": 24,
   "metadata": {},
   "outputs": [
    {
     "name": "stdout",
     "output_type": "stream",
     "text": [
      "CPU times: total: 36.3 s\n",
      "Wall time: 36.9 s\n"
     ]
    }
   ],
   "source": [
    "%%time\n",
    "movies_value = data['movieId'].unique()\n",
    "data['movieId'] = data['movieId'].apply(lambda f:np.where(movies_value == f)[0][0])"
   ]
  },
  {
   "cell_type": "code",
   "execution_count": 26,
   "metadata": {},
   "outputs": [
    {
     "name": "stdout",
     "output_type": "stream",
     "text": [
      "CPU times: total: 1min 31s\n",
      "Wall time: 1min 33s\n"
     ]
    }
   ],
   "source": [
    "%%time\n",
    "users_values = data['userId'].unique()\n",
    "data['userId'] = data['userId'].apply(lambda f:np.where(users_values == f)[0][0])"
   ]
  },
  {
   "cell_type": "code",
   "execution_count": 27,
   "metadata": {},
   "outputs": [
    {
     "data": {
      "text/html": [
       "<div>\n",
       "<style scoped>\n",
       "    .dataframe tbody tr th:only-of-type {\n",
       "        vertical-align: middle;\n",
       "    }\n",
       "\n",
       "    .dataframe tbody tr th {\n",
       "        vertical-align: top;\n",
       "    }\n",
       "\n",
       "    .dataframe thead th {\n",
       "        text-align: right;\n",
       "    }\n",
       "</style>\n",
       "<table border=\"1\" class=\"dataframe\">\n",
       "  <thead>\n",
       "    <tr style=\"text-align: right;\">\n",
       "      <th></th>\n",
       "      <th>userId</th>\n",
       "      <th>movieId</th>\n",
       "      <th>rating</th>\n",
       "      <th>timestamp</th>\n",
       "      <th>watched</th>\n",
       "    </tr>\n",
       "  </thead>\n",
       "  <tbody>\n",
       "    <tr>\n",
       "      <th>0</th>\n",
       "      <td>0</td>\n",
       "      <td>0</td>\n",
       "      <td>3.00</td>\n",
       "      <td>974918176</td>\n",
       "      <td>1</td>\n",
       "    </tr>\n",
       "    <tr>\n",
       "      <th>1</th>\n",
       "      <td>0</td>\n",
       "      <td>1</td>\n",
       "      <td>5.00</td>\n",
       "      <td>974836809</td>\n",
       "      <td>1</td>\n",
       "    </tr>\n",
       "    <tr>\n",
       "      <th>2</th>\n",
       "      <td>0</td>\n",
       "      <td>2</td>\n",
       "      <td>4.00</td>\n",
       "      <td>974837760</td>\n",
       "      <td>1</td>\n",
       "    </tr>\n",
       "    <tr>\n",
       "      <th>3</th>\n",
       "      <td>0</td>\n",
       "      <td>3</td>\n",
       "      <td>4.00</td>\n",
       "      <td>974837760</td>\n",
       "      <td>1</td>\n",
       "    </tr>\n",
       "    <tr>\n",
       "      <th>4</th>\n",
       "      <td>0</td>\n",
       "      <td>4</td>\n",
       "      <td>5.00</td>\n",
       "      <td>974840217</td>\n",
       "      <td>1</td>\n",
       "    </tr>\n",
       "  </tbody>\n",
       "</table>\n",
       "</div>"
      ],
      "text/plain": [
       "   userId  movieId  rating  timestamp  watched\n",
       "0       0        0    3.00  974918176        1\n",
       "1       0        1    5.00  974836809        1\n",
       "2       0        2    4.00  974837760        1\n",
       "3       0        3    4.00  974837760        1\n",
       "4       0        4    5.00  974840217        1"
      ]
     },
     "execution_count": 27,
     "metadata": {},
     "output_type": "execute_result"
    }
   ],
   "source": [
    "data.head()"
   ]
  },
  {
   "cell_type": "code",
   "execution_count": 28,
   "metadata": {},
   "outputs": [
    {
     "data": {
      "text/html": [
       "<div>\n",
       "<style scoped>\n",
       "    .dataframe tbody tr th:only-of-type {\n",
       "        vertical-align: middle;\n",
       "    }\n",
       "\n",
       "    .dataframe tbody tr th {\n",
       "        vertical-align: top;\n",
       "    }\n",
       "\n",
       "    .dataframe thead th {\n",
       "        text-align: right;\n",
       "    }\n",
       "</style>\n",
       "<table border=\"1\" class=\"dataframe\">\n",
       "  <thead>\n",
       "    <tr style=\"text-align: right;\">\n",
       "      <th></th>\n",
       "      <th>userId</th>\n",
       "      <th>movieId</th>\n",
       "      <th>rating</th>\n",
       "      <th>timestamp</th>\n",
       "      <th>watched</th>\n",
       "    </tr>\n",
       "  </thead>\n",
       "  <tbody>\n",
       "    <tr>\n",
       "      <th>count</th>\n",
       "      <td>6040099.00</td>\n",
       "      <td>6040099.00</td>\n",
       "      <td>6040099.00</td>\n",
       "      <td>6040099.00</td>\n",
       "      <td>6040099.00</td>\n",
       "    </tr>\n",
       "    <tr>\n",
       "      <th>mean</th>\n",
       "      <td>9127.36</td>\n",
       "      <td>422.90</td>\n",
       "      <td>3.55</td>\n",
       "      <td>1115774334.98</td>\n",
       "      <td>1.00</td>\n",
       "    </tr>\n",
       "    <tr>\n",
       "      <th>std</th>\n",
       "      <td>5573.44</td>\n",
       "      <td>283.85</td>\n",
       "      <td>1.00</td>\n",
       "      <td>135843321.30</td>\n",
       "      <td>0.00</td>\n",
       "    </tr>\n",
       "    <tr>\n",
       "      <th>min</th>\n",
       "      <td>0.00</td>\n",
       "      <td>0.00</td>\n",
       "      <td>0.50</td>\n",
       "      <td>824835410.00</td>\n",
       "      <td>1.00</td>\n",
       "    </tr>\n",
       "    <tr>\n",
       "      <th>25%</th>\n",
       "      <td>4365.00</td>\n",
       "      <td>165.00</td>\n",
       "      <td>3.00</td>\n",
       "      <td>995660158.00</td>\n",
       "      <td>1.00</td>\n",
       "    </tr>\n",
       "    <tr>\n",
       "      <th>50%</th>\n",
       "      <td>8679.00</td>\n",
       "      <td>415.00</td>\n",
       "      <td>4.00</td>\n",
       "      <td>1111706240.00</td>\n",
       "      <td>1.00</td>\n",
       "    </tr>\n",
       "    <tr>\n",
       "      <th>75%</th>\n",
       "      <td>13796.00</td>\n",
       "      <td>646.00</td>\n",
       "      <td>4.00</td>\n",
       "      <td>1213151458.50</td>\n",
       "      <td>1.00</td>\n",
       "    </tr>\n",
       "    <tr>\n",
       "      <th>max</th>\n",
       "      <td>19999.00</td>\n",
       "      <td>999.00</td>\n",
       "      <td>5.00</td>\n",
       "      <td>1427780469.00</td>\n",
       "      <td>1.00</td>\n",
       "    </tr>\n",
       "  </tbody>\n",
       "</table>\n",
       "</div>"
      ],
      "text/plain": [
       "          userId    movieId     rating     timestamp    watched\n",
       "count 6040099.00 6040099.00 6040099.00    6040099.00 6040099.00\n",
       "mean     9127.36     422.90       3.55 1115774334.98       1.00\n",
       "std      5573.44     283.85       1.00  135843321.30       0.00\n",
       "min         0.00       0.00       0.50  824835410.00       1.00\n",
       "25%      4365.00     165.00       3.00  995660158.00       1.00\n",
       "50%      8679.00     415.00       4.00 1111706240.00       1.00\n",
       "75%     13796.00     646.00       4.00 1213151458.50       1.00\n",
       "max     19999.00     999.00       5.00 1427780469.00       1.00"
      ]
     },
     "execution_count": 28,
     "metadata": {},
     "output_type": "execute_result"
    }
   ],
   "source": [
    "data.describe()"
   ]
  },
  {
   "cell_type": "code",
   "execution_count": 29,
   "metadata": {},
   "outputs": [],
   "source": [
    "users = data.userId.unique()\n",
    "movies = data.movieId.unique()"
   ]
  },
  {
   "cell_type": "code",
   "execution_count": 30,
   "metadata": {},
   "outputs": [
    {
     "name": "stdout",
     "output_type": "stream",
     "text": [
      "CPU times: total: 11.6 s\n",
      "Wall time: 11.7 s\n"
     ]
    }
   ],
   "source": [
    "%%time\n",
    "random_pairs = []\n",
    "for item in range(6040099*2):\n",
    "    pair = (random.choice(users), random.choice(movies))\n",
    "    random_pairs.append(pair)"
   ]
  },
  {
   "cell_type": "code",
   "execution_count": 39,
   "metadata": {},
   "outputs": [
    {
     "name": "stdout",
     "output_type": "stream",
     "text": [
      "CPU times: total: 1min 19s\n",
      "Wall time: 1min 20s\n"
     ]
    },
    {
     "data": {
      "text/html": [
       "<div>\n",
       "<style scoped>\n",
       "    .dataframe tbody tr th:only-of-type {\n",
       "        vertical-align: middle;\n",
       "    }\n",
       "\n",
       "    .dataframe tbody tr th {\n",
       "        vertical-align: top;\n",
       "    }\n",
       "\n",
       "    .dataframe thead th {\n",
       "        text-align: right;\n",
       "    }\n",
       "</style>\n",
       "<table border=\"1\" class=\"dataframe\">\n",
       "  <thead>\n",
       "    <tr style=\"text-align: right;\">\n",
       "      <th></th>\n",
       "      <th>userId</th>\n",
       "      <th>movieId</th>\n",
       "    </tr>\n",
       "  </thead>\n",
       "  <tbody>\n",
       "    <tr>\n",
       "      <th>0</th>\n",
       "      <td>14290</td>\n",
       "      <td>379</td>\n",
       "    </tr>\n",
       "    <tr>\n",
       "      <th>1</th>\n",
       "      <td>18210</td>\n",
       "      <td>597</td>\n",
       "    </tr>\n",
       "    <tr>\n",
       "      <th>2</th>\n",
       "      <td>1742</td>\n",
       "      <td>173</td>\n",
       "    </tr>\n",
       "    <tr>\n",
       "      <th>3</th>\n",
       "      <td>4850</td>\n",
       "      <td>889</td>\n",
       "    </tr>\n",
       "    <tr>\n",
       "      <th>4</th>\n",
       "      <td>2800</td>\n",
       "      <td>599</td>\n",
       "    </tr>\n",
       "  </tbody>\n",
       "</table>\n",
       "</div>"
      ],
      "text/plain": [
       "   userId  movieId\n",
       "0   14290      379\n",
       "1   18210      597\n",
       "2    1742      173\n",
       "3    4850      889\n",
       "4    2800      599"
      ]
     },
     "execution_count": 39,
     "metadata": {},
     "output_type": "execute_result"
    }
   ],
   "source": [
    "%%time\n",
    "random_pairs = pd.DataFrame(random_pairs)\n",
    "random_pairs.columns = ['userId', 'movieId']\n",
    "random_pairs.head()"
   ]
  },
  {
   "cell_type": "code",
   "execution_count": 40,
   "metadata": {},
   "outputs": [
    {
     "data": {
      "text/plain": [
       "(12080198, 2)"
      ]
     },
     "execution_count": 40,
     "metadata": {},
     "output_type": "execute_result"
    }
   ],
   "source": [
    "random_pairs.shape"
   ]
  },
  {
   "cell_type": "code",
   "execution_count": 41,
   "metadata": {},
   "outputs": [
    {
     "data": {
      "text/plain": [
       "3012445"
      ]
     },
     "execution_count": 41,
     "metadata": {},
     "output_type": "execute_result"
    }
   ],
   "source": [
    "random_pairs.duplicated().sum() # поиск дупликатов для дальнейшей очистки массива данных от дупликатов"
   ]
  },
  {
   "cell_type": "code",
   "execution_count": 44,
   "metadata": {},
   "outputs": [],
   "source": [
    "random_pairs.drop_duplicates(inplace=True)"
   ]
  },
  {
   "cell_type": "code",
   "execution_count": 47,
   "metadata": {},
   "outputs": [
    {
     "data": {
      "text/plain": [
       "(9067753, 2)"
      ]
     },
     "execution_count": 47,
     "metadata": {},
     "output_type": "execute_result"
    }
   ],
   "source": [
    "random_pairs.shape"
   ]
  },
  {
   "cell_type": "markdown",
   "metadata": {},
   "source": [
    "Нужно оставить среди созданных пар те, в которых фильм не был просмотрен"
   ]
  },
  {
   "cell_type": "code",
   "execution_count": 48,
   "metadata": {},
   "outputs": [],
   "source": [
    "originals_pairs = data[['userId','movieId']].copy()"
   ]
  },
  {
   "cell_type": "code",
   "execution_count": 49,
   "metadata": {},
   "outputs": [
    {
     "name": "stdout",
     "output_type": "stream",
     "text": [
      "CPU times: total: 15.9 s\n",
      "Wall time: 16.2 s\n"
     ]
    }
   ],
   "source": [
    "%%time\n",
    "random_pairs = set(tuple(x) for x in random_pairs.values)\n",
    "originals_pairs = set(tuple(x) for x in originals_pairs.values)"
   ]
  },
  {
   "cell_type": "code",
   "execution_count": 50,
   "metadata": {},
   "outputs": [
    {
     "name": "stdout",
     "output_type": "stream",
     "text": [
      "CPU times: total: 47.3 s\n",
      "Wall time: 47.7 s\n"
     ]
    }
   ],
   "source": [
    "%%time\n",
    "random_pairs_not_watched = pd.DataFrame(random_pairs.difference(originals_pairs))"
   ]
  },
  {
   "cell_type": "code",
   "execution_count": 51,
   "metadata": {},
   "outputs": [
    {
     "data": {
      "text/html": [
       "<div>\n",
       "<style scoped>\n",
       "    .dataframe tbody tr th:only-of-type {\n",
       "        vertical-align: middle;\n",
       "    }\n",
       "\n",
       "    .dataframe tbody tr th {\n",
       "        vertical-align: top;\n",
       "    }\n",
       "\n",
       "    .dataframe thead th {\n",
       "        text-align: right;\n",
       "    }\n",
       "</style>\n",
       "<table border=\"1\" class=\"dataframe\">\n",
       "  <thead>\n",
       "    <tr style=\"text-align: right;\">\n",
       "      <th></th>\n",
       "      <th>0</th>\n",
       "      <th>1</th>\n",
       "    </tr>\n",
       "  </thead>\n",
       "  <tbody>\n",
       "    <tr>\n",
       "      <th>0</th>\n",
       "      <td>12885</td>\n",
       "      <td>895</td>\n",
       "    </tr>\n",
       "    <tr>\n",
       "      <th>1</th>\n",
       "      <td>15557</td>\n",
       "      <td>614</td>\n",
       "    </tr>\n",
       "    <tr>\n",
       "      <th>2</th>\n",
       "      <td>2236</td>\n",
       "      <td>469</td>\n",
       "    </tr>\n",
       "    <tr>\n",
       "      <th>3</th>\n",
       "      <td>4908</td>\n",
       "      <td>188</td>\n",
       "    </tr>\n",
       "    <tr>\n",
       "      <th>4</th>\n",
       "      <td>10059</td>\n",
       "      <td>709</td>\n",
       "    </tr>\n",
       "  </tbody>\n",
       "</table>\n",
       "</div>"
      ],
      "text/plain": [
       "       0    1\n",
       "0  12885  895\n",
       "1  15557  614\n",
       "2   2236  469\n",
       "3   4908  188\n",
       "4  10059  709"
      ]
     },
     "execution_count": 51,
     "metadata": {},
     "output_type": "execute_result"
    }
   ],
   "source": [
    "random_pairs_not_watched.head()"
   ]
  },
  {
   "cell_type": "code",
   "execution_count": 52,
   "metadata": {},
   "outputs": [
    {
     "data": {
      "text/plain": [
       "(6327975, 2)"
      ]
     },
     "execution_count": 52,
     "metadata": {},
     "output_type": "execute_result"
    }
   ],
   "source": [
    "random_pairs_not_watched.shape"
   ]
  },
  {
   "cell_type": "markdown",
   "metadata": {},
   "source": [
    "Сгенерерованных данных больше, чем исходных. Для корректной работы нужно убрать лишнее."
   ]
  },
  {
   "cell_type": "code",
   "execution_count": 53,
   "metadata": {},
   "outputs": [],
   "source": [
    "random_pairs_not_watched = random_pairs_not_watched.sample(6040099)\n",
    "random_pairs_not_watched.columns = ['userId', 'movieId']"
   ]
  },
  {
   "cell_type": "code",
   "execution_count": 55,
   "metadata": {},
   "outputs": [],
   "source": [
    "data = pd.concat([data, random_pairs_not_watched], ignore_index=True)"
   ]
  },
  {
   "cell_type": "code",
   "execution_count": 58,
   "metadata": {},
   "outputs": [
    {
     "data": {
      "text/html": [
       "<div>\n",
       "<style scoped>\n",
       "    .dataframe tbody tr th:only-of-type {\n",
       "        vertical-align: middle;\n",
       "    }\n",
       "\n",
       "    .dataframe tbody tr th {\n",
       "        vertical-align: top;\n",
       "    }\n",
       "\n",
       "    .dataframe thead th {\n",
       "        text-align: right;\n",
       "    }\n",
       "</style>\n",
       "<table border=\"1\" class=\"dataframe\">\n",
       "  <thead>\n",
       "    <tr style=\"text-align: right;\">\n",
       "      <th></th>\n",
       "      <th>userId</th>\n",
       "      <th>movieId</th>\n",
       "      <th>rating</th>\n",
       "      <th>timestamp</th>\n",
       "      <th>watched</th>\n",
       "    </tr>\n",
       "  </thead>\n",
       "  <tbody>\n",
       "    <tr>\n",
       "      <th>800121</th>\n",
       "      <td>2324</td>\n",
       "      <td>794</td>\n",
       "      <td>3.00</td>\n",
       "      <td>1243911356.00</td>\n",
       "      <td>1.00</td>\n",
       "    </tr>\n",
       "    <tr>\n",
       "      <th>10280081</th>\n",
       "      <td>16929</td>\n",
       "      <td>911</td>\n",
       "      <td>NaN</td>\n",
       "      <td>NaN</td>\n",
       "      <td>NaN</td>\n",
       "    </tr>\n",
       "    <tr>\n",
       "      <th>5779937</th>\n",
       "      <td>18654</td>\n",
       "      <td>984</td>\n",
       "      <td>4.00</td>\n",
       "      <td>1252185648.00</td>\n",
       "      <td>1.00</td>\n",
       "    </tr>\n",
       "    <tr>\n",
       "      <th>375842</th>\n",
       "      <td>1094</td>\n",
       "      <td>128</td>\n",
       "      <td>5.00</td>\n",
       "      <td>1092101506.00</td>\n",
       "      <td>1.00</td>\n",
       "    </tr>\n",
       "    <tr>\n",
       "      <th>4392006</th>\n",
       "      <td>13291</td>\n",
       "      <td>118</td>\n",
       "      <td>3.00</td>\n",
       "      <td>992992834.00</td>\n",
       "      <td>1.00</td>\n",
       "    </tr>\n",
       "    <tr>\n",
       "      <th>2110902</th>\n",
       "      <td>6073</td>\n",
       "      <td>984</td>\n",
       "      <td>5.00</td>\n",
       "      <td>1169403802.00</td>\n",
       "      <td>1.00</td>\n",
       "    </tr>\n",
       "    <tr>\n",
       "      <th>10546604</th>\n",
       "      <td>4588</td>\n",
       "      <td>375</td>\n",
       "      <td>NaN</td>\n",
       "      <td>NaN</td>\n",
       "      <td>NaN</td>\n",
       "    </tr>\n",
       "    <tr>\n",
       "      <th>9557900</th>\n",
       "      <td>16569</td>\n",
       "      <td>105</td>\n",
       "      <td>NaN</td>\n",
       "      <td>NaN</td>\n",
       "      <td>NaN</td>\n",
       "    </tr>\n",
       "    <tr>\n",
       "      <th>3237306</th>\n",
       "      <td>9315</td>\n",
       "      <td>313</td>\n",
       "      <td>2.50</td>\n",
       "      <td>1197174147.00</td>\n",
       "      <td>1.00</td>\n",
       "    </tr>\n",
       "    <tr>\n",
       "      <th>7544219</th>\n",
       "      <td>16934</td>\n",
       "      <td>599</td>\n",
       "      <td>NaN</td>\n",
       "      <td>NaN</td>\n",
       "      <td>NaN</td>\n",
       "    </tr>\n",
       "  </tbody>\n",
       "</table>\n",
       "</div>"
      ],
      "text/plain": [
       "          userId  movieId  rating     timestamp  watched\n",
       "800121      2324      794    3.00 1243911356.00     1.00\n",
       "10280081   16929      911     NaN           NaN      NaN\n",
       "5779937    18654      984    4.00 1252185648.00     1.00\n",
       "375842      1094      128    5.00 1092101506.00     1.00\n",
       "4392006    13291      118    3.00  992992834.00     1.00\n",
       "2110902     6073      984    5.00 1169403802.00     1.00\n",
       "10546604    4588      375     NaN           NaN      NaN\n",
       "9557900    16569      105     NaN           NaN      NaN\n",
       "3237306     9315      313    2.50 1197174147.00     1.00\n",
       "7544219    16934      599     NaN           NaN      NaN"
      ]
     },
     "execution_count": 58,
     "metadata": {},
     "output_type": "execute_result"
    }
   ],
   "source": [
    "data.sample(10)"
   ]
  },
  {
   "cell_type": "markdown",
   "metadata": {},
   "source": [
    "Данные без каких-либо значений должны быть равны нулю"
   ]
  },
  {
   "cell_type": "code",
   "execution_count": 59,
   "metadata": {},
   "outputs": [],
   "source": [
    "data = data.fillna(0)"
   ]
  },
  {
   "cell_type": "code",
   "execution_count": 60,
   "metadata": {},
   "outputs": [
    {
     "data": {
      "text/html": [
       "<div>\n",
       "<style scoped>\n",
       "    .dataframe tbody tr th:only-of-type {\n",
       "        vertical-align: middle;\n",
       "    }\n",
       "\n",
       "    .dataframe tbody tr th {\n",
       "        vertical-align: top;\n",
       "    }\n",
       "\n",
       "    .dataframe thead th {\n",
       "        text-align: right;\n",
       "    }\n",
       "</style>\n",
       "<table border=\"1\" class=\"dataframe\">\n",
       "  <thead>\n",
       "    <tr style=\"text-align: right;\">\n",
       "      <th></th>\n",
       "      <th>userId</th>\n",
       "      <th>movieId</th>\n",
       "      <th>rating</th>\n",
       "      <th>timestamp</th>\n",
       "      <th>watched</th>\n",
       "    </tr>\n",
       "  </thead>\n",
       "  <tbody>\n",
       "    <tr>\n",
       "      <th>858530</th>\n",
       "      <td>2479</td>\n",
       "      <td>745</td>\n",
       "      <td>4.50</td>\n",
       "      <td>1072756381.00</td>\n",
       "      <td>1.00</td>\n",
       "    </tr>\n",
       "    <tr>\n",
       "      <th>1000166</th>\n",
       "      <td>2900</td>\n",
       "      <td>622</td>\n",
       "      <td>3.50</td>\n",
       "      <td>1134736944.00</td>\n",
       "      <td>1.00</td>\n",
       "    </tr>\n",
       "    <tr>\n",
       "      <th>123365</th>\n",
       "      <td>363</td>\n",
       "      <td>334</td>\n",
       "      <td>5.00</td>\n",
       "      <td>995000055.00</td>\n",
       "      <td>1.00</td>\n",
       "    </tr>\n",
       "    <tr>\n",
       "      <th>148505</th>\n",
       "      <td>442</td>\n",
       "      <td>44</td>\n",
       "      <td>3.50</td>\n",
       "      <td>1160417244.00</td>\n",
       "      <td>1.00</td>\n",
       "    </tr>\n",
       "    <tr>\n",
       "      <th>5112234</th>\n",
       "      <td>15904</td>\n",
       "      <td>11</td>\n",
       "      <td>4.00</td>\n",
       "      <td>945698524.00</td>\n",
       "      <td>1.00</td>\n",
       "    </tr>\n",
       "    <tr>\n",
       "      <th>8735348</th>\n",
       "      <td>14414</td>\n",
       "      <td>786</td>\n",
       "      <td>0.00</td>\n",
       "      <td>0.00</td>\n",
       "      <td>0.00</td>\n",
       "    </tr>\n",
       "    <tr>\n",
       "      <th>6873807</th>\n",
       "      <td>3421</td>\n",
       "      <td>681</td>\n",
       "      <td>0.00</td>\n",
       "      <td>0.00</td>\n",
       "      <td>0.00</td>\n",
       "    </tr>\n",
       "    <tr>\n",
       "      <th>3795284</th>\n",
       "      <td>11147</td>\n",
       "      <td>292</td>\n",
       "      <td>4.00</td>\n",
       "      <td>942860477.00</td>\n",
       "      <td>1.00</td>\n",
       "    </tr>\n",
       "    <tr>\n",
       "      <th>7987151</th>\n",
       "      <td>2287</td>\n",
       "      <td>296</td>\n",
       "      <td>0.00</td>\n",
       "      <td>0.00</td>\n",
       "      <td>0.00</td>\n",
       "    </tr>\n",
       "    <tr>\n",
       "      <th>10213505</th>\n",
       "      <td>5461</td>\n",
       "      <td>899</td>\n",
       "      <td>0.00</td>\n",
       "      <td>0.00</td>\n",
       "      <td>0.00</td>\n",
       "    </tr>\n",
       "  </tbody>\n",
       "</table>\n",
       "</div>"
      ],
      "text/plain": [
       "          userId  movieId  rating     timestamp  watched\n",
       "858530      2479      745    4.50 1072756381.00     1.00\n",
       "1000166     2900      622    3.50 1134736944.00     1.00\n",
       "123365       363      334    5.00  995000055.00     1.00\n",
       "148505       442       44    3.50 1160417244.00     1.00\n",
       "5112234    15904       11    4.00  945698524.00     1.00\n",
       "8735348    14414      786    0.00          0.00     0.00\n",
       "6873807     3421      681    0.00          0.00     0.00\n",
       "3795284    11147      292    4.00  942860477.00     1.00\n",
       "7987151     2287      296    0.00          0.00     0.00\n",
       "10213505    5461      899    0.00          0.00     0.00"
      ]
     },
     "execution_count": 60,
     "metadata": {},
     "output_type": "execute_result"
    }
   ],
   "source": [
    "data.sample(10)"
   ]
  },
  {
   "cell_type": "markdown",
   "metadata": {},
   "source": [
    "после подготовки данных нужно заготовить тестовые и тренировочные данные"
   ]
  },
  {
   "cell_type": "code",
   "execution_count": 63,
   "metadata": {},
   "outputs": [],
   "source": [
    "train, test = train_test_split(data, test_size=0.1, random_state=RANDOM_STATE)"
   ]
  },
  {
   "cell_type": "code",
   "execution_count": 64,
   "metadata": {},
   "outputs": [],
   "source": [
    "features_train = train.drop('watched', axis=1)\n",
    "target_train = train['watched']\n",
    "features_test = test.drop('watched', axis=1)\n",
    "target_test = test['watched']"
   ]
  },
  {
   "cell_type": "code",
   "execution_count": 66,
   "metadata": {},
   "outputs": [
    {
     "data": {
      "text/plain": [
       "((10872178, 4), (10872178,))"
      ]
     },
     "execution_count": 66,
     "metadata": {},
     "output_type": "execute_result"
    }
   ],
   "source": [
    "features_train.shape, target_train.shape"
   ]
  },
  {
   "cell_type": "code",
   "execution_count": 67,
   "metadata": {},
   "outputs": [
    {
     "data": {
      "text/plain": [
       "((1208020, 4), (1208020,))"
      ]
     },
     "execution_count": 67,
     "metadata": {},
     "output_type": "execute_result"
    }
   ],
   "source": [
    "features_test.shape, target_test.shape"
   ]
  },
  {
   "cell_type": "code",
   "execution_count": 68,
   "metadata": {},
   "outputs": [],
   "source": [
    "def dummy_model(features):\n",
    "    return [random.random() for item in range(len(features))]"
   ]
  },
  {
   "cell_type": "code",
   "execution_count": 69,
   "metadata": {},
   "outputs": [],
   "source": [
    "dummy_prediction = dummy_model(features_test)\n",
    "roc_auc_dummy = round((roc_auc_score(target_test, dummy_prediction)), 4)"
   ]
  },
  {
   "cell_type": "code",
   "execution_count": 78,
   "metadata": {},
   "outputs": [
    {
     "data": {
      "text/html": [
       "<style type=\"text/css\">\n",
       "#T_dd2a4_row0_col0 {\n",
       "  background-color: #5C61;\n",
       "}\n",
       "</style>\n",
       "<table id=\"T_dd2a4\">\n",
       "  <thead>\n",
       "    <tr>\n",
       "      <th class=\"blank level0\" >&nbsp;</th>\n",
       "      <th id=\"T_dd2a4_level0_col0\" class=\"col_heading level0 col0\" >ROC-AUC</th>\n",
       "    </tr>\n",
       "  </thead>\n",
       "  <tbody>\n",
       "    <tr>\n",
       "      <th id=\"T_dd2a4_level0_row0\" class=\"row_heading level0 row0\" >dummy_model</th>\n",
       "      <td id=\"T_dd2a4_row0_col0\" class=\"data row0 col0\" >0.500400</td>\n",
       "    </tr>\n",
       "  </tbody>\n",
       "</table>\n"
      ],
      "text/plain": [
       "<pandas.io.formats.style.Styler at 0x187c4561c90>"
      ]
     },
     "execution_count": 78,
     "metadata": {},
     "output_type": "execute_result"
    }
   ],
   "source": [
    "data_res = {'ROC-AUC':[roc_auc_dummy]}\n",
    "data_res = pd.DataFrame(data_res)\n",
    "data_res = data_res.rename(index={0:'dummy_model'})\n",
    "data_res.style.highlight_max(axis=0, color='#5C61')"
   ]
  },
  {
   "cell_type": "markdown",
   "metadata": {},
   "source": [
    "Коллаборативная фильтрация"
   ]
  },
  {
   "cell_type": "code",
   "execution_count": 80,
   "metadata": {},
   "outputs": [
    {
     "data": {
      "text/plain": [
       "20000"
      ]
     },
     "execution_count": 80,
     "metadata": {},
     "output_type": "execute_result"
    }
   ],
   "source": [
    "n_users = train['userId'].nunique()\n",
    "n_users"
   ]
  },
  {
   "cell_type": "code",
   "execution_count": 81,
   "metadata": {},
   "outputs": [
    {
     "data": {
      "text/plain": [
       "1000"
      ]
     },
     "execution_count": 81,
     "metadata": {},
     "output_type": "execute_result"
    }
   ],
   "source": [
    "n_movies = train['movieId'].nunique()\n",
    "n_movies"
   ]
  },
  {
   "cell_type": "code",
   "execution_count": 82,
   "metadata": {},
   "outputs": [
    {
     "name": "stdout",
     "output_type": "stream",
     "text": [
      "CPU times: total: 9.47 s\n",
      "Wall time: 9.58 s\n"
     ]
    }
   ],
   "source": [
    "%%time\n",
    "train_data_matrix = np.array(pd.pivot_table(train, values='watched', index='userId', columns='movieId', fill_value=0))"
   ]
  },
  {
   "cell_type": "code",
   "execution_count": 83,
   "metadata": {},
   "outputs": [
    {
     "data": {
      "text/plain": [
       "(20000, 1000)"
      ]
     },
     "execution_count": 83,
     "metadata": {},
     "output_type": "execute_result"
    }
   ],
   "source": [
    "train_data_matrix.shape"
   ]
  },
  {
   "cell_type": "code",
   "execution_count": 84,
   "metadata": {},
   "outputs": [
    {
     "name": "stdout",
     "output_type": "stream",
     "text": [
      "CPU times: total: 12.2 s\n",
      "Wall time: 12.4 s\n"
     ]
    }
   ],
   "source": [
    "%%time\n",
    "user_similarity = cosine_distances(train_data_matrix)"
   ]
  },
  {
   "cell_type": "code",
   "execution_count": 85,
   "metadata": {},
   "outputs": [
    {
     "data": {
      "text/plain": [
       "array([[0.        , 0.52233421, 0.48253634, ..., 0.88420411, 0.99552428,\n",
       "        0.97157132],\n",
       "       [0.52233421, 0.        , 0.44938462, ..., 0.75245098, 0.78107931,\n",
       "        0.91086339],\n",
       "       [0.48253634, 0.44938462, 0.        , ..., 0.81070059, 0.76257113,\n",
       "        0.89775656],\n",
       "       ...,\n",
       "       [0.88420411, 0.75245098, 0.81070059, ..., 0.        , 0.6833843 ,\n",
       "        0.75101085],\n",
       "       [0.99552428, 0.78107931, 0.76257113, ..., 0.6833843 , 0.        ,\n",
       "        0.8045613 ],\n",
       "       [0.97157132, 0.91086339, 0.89775656, ..., 0.75101085, 0.8045613 ,\n",
       "        0.        ]])"
      ]
     },
     "execution_count": 85,
     "metadata": {},
     "output_type": "execute_result"
    }
   ],
   "source": [
    "user_similarity"
   ]
  },
  {
   "cell_type": "code",
   "execution_count": 86,
   "metadata": {},
   "outputs": [
    {
     "name": "stdout",
     "output_type": "stream",
     "text": [
      "CPU times: total: 594 ms\n",
      "Wall time: 625 ms\n"
     ]
    }
   ],
   "source": [
    "%%time\n",
    "movie_similarity = cosine_distances(train_data_matrix.T)"
   ]
  },
  {
   "cell_type": "code",
   "execution_count": 87,
   "metadata": {},
   "outputs": [
    {
     "data": {
      "text/plain": [
       "array([[0.        , 0.45003848, 0.43902138, ..., 0.77285966, 0.63280724,\n",
       "        0.80401796],\n",
       "       [0.45003848, 0.        , 0.28300816, ..., 0.69395282, 0.57535057,\n",
       "        0.70921377],\n",
       "       [0.43902138, 0.28300816, 0.        , ..., 0.70084698, 0.53799566,\n",
       "        0.7468385 ],\n",
       "       ...,\n",
       "       [0.77285966, 0.69395282, 0.70084698, ..., 0.        , 0.79696842,\n",
       "        0.67823177],\n",
       "       [0.63280724, 0.57535057, 0.53799566, ..., 0.79696842, 0.        ,\n",
       "        0.85775494],\n",
       "       [0.80401796, 0.70921377, 0.7468385 , ..., 0.67823177, 0.85775494,\n",
       "        0.        ]])"
      ]
     },
     "execution_count": 87,
     "metadata": {},
     "output_type": "execute_result"
    }
   ],
   "source": [
    "movie_similarity"
   ]
  },
  {
   "cell_type": "code",
   "execution_count": 88,
   "metadata": {},
   "outputs": [
    {
     "data": {
      "text/plain": [
       "(20000, 20000)"
      ]
     },
     "execution_count": 88,
     "metadata": {},
     "output_type": "execute_result"
    }
   ],
   "source": [
    "user_similarity.shape"
   ]
  },
  {
   "cell_type": "code",
   "execution_count": 89,
   "metadata": {},
   "outputs": [
    {
     "data": {
      "text/plain": [
       "(1000, 1000)"
      ]
     },
     "execution_count": 89,
     "metadata": {},
     "output_type": "execute_result"
    }
   ],
   "source": [
    "movie_similarity.shape"
   ]
  },
  {
   "cell_type": "code",
   "execution_count": 90,
   "metadata": {},
   "outputs": [
    {
     "name": "stdout",
     "output_type": "stream",
     "text": [
      "CPU times: total: 34.8 s\n",
      "Wall time: 35.4 s\n"
     ]
    }
   ],
   "source": [
    "%%time\n",
    "top = 10\n",
    "top_similar_users = []\n",
    "for i in range(n_users):\n",
    "    neighbors = (user_similarity[i]).argsort()[1:top+1]\n",
    "    top_similar_users.append(\n",
    "        train_data_matrix[neighbors]\n",
    "    )\n",
    "top_similar_users = np.array(top_similar_users)"
   ]
  },
  {
   "cell_type": "code",
   "execution_count": 91,
   "metadata": {},
   "outputs": [
    {
     "data": {
      "text/plain": [
       "(20000, 10, 1000)"
      ]
     },
     "execution_count": 91,
     "metadata": {},
     "output_type": "execute_result"
    }
   ],
   "source": [
    "top_similar_users.shape"
   ]
  },
  {
   "cell_type": "markdown",
   "metadata": {},
   "source": [
    "Матрица предсказаний "
   ]
  },
  {
   "cell_type": "code",
   "execution_count": 92,
   "metadata": {},
   "outputs": [],
   "source": [
    "predicted_movies_pop_user_based = top_similar_users.mean(1)"
   ]
  },
  {
   "cell_type": "code",
   "execution_count": 93,
   "metadata": {},
   "outputs": [
    {
     "data": {
      "text/plain": [
       "(20000, 1000)"
      ]
     },
     "execution_count": 93,
     "metadata": {},
     "output_type": "execute_result"
    }
   ],
   "source": [
    "predicted_movies_pop_user_based.shape"
   ]
  },
  {
   "cell_type": "markdown",
   "metadata": {},
   "source": [
    "создание предикта для тестового датасета"
   ]
  },
  {
   "cell_type": "code",
   "execution_count": 94,
   "metadata": {},
   "outputs": [],
   "source": [
    "def round_to_nearest_0_5(n):\n",
    "    return round(n*2)/2"
   ]
  },
  {
   "cell_type": "code",
   "execution_count": 95,
   "metadata": {},
   "outputs": [],
   "source": [
    "test['predict_user_based'] = test.apply(\n",
    "    lambda f: round_to_nearest_0_5(predicted_movies_pop_user_based[int(f['userId']), int(f['movieId'])]), axis=1\n",
    ")"
   ]
  },
  {
   "cell_type": "code",
   "execution_count": 97,
   "metadata": {},
   "outputs": [
    {
     "data": {
      "text/html": [
       "<div>\n",
       "<style scoped>\n",
       "    .dataframe tbody tr th:only-of-type {\n",
       "        vertical-align: middle;\n",
       "    }\n",
       "\n",
       "    .dataframe tbody tr th {\n",
       "        vertical-align: top;\n",
       "    }\n",
       "\n",
       "    .dataframe thead th {\n",
       "        text-align: right;\n",
       "    }\n",
       "</style>\n",
       "<table border=\"1\" class=\"dataframe\">\n",
       "  <thead>\n",
       "    <tr style=\"text-align: right;\">\n",
       "      <th></th>\n",
       "      <th>userId</th>\n",
       "      <th>movieId</th>\n",
       "      <th>rating</th>\n",
       "      <th>timestamp</th>\n",
       "      <th>watched</th>\n",
       "      <th>predict_user_based</th>\n",
       "    </tr>\n",
       "  </thead>\n",
       "  <tbody>\n",
       "    <tr>\n",
       "      <th>6792316</th>\n",
       "      <td>1905</td>\n",
       "      <td>528</td>\n",
       "      <td>0.00</td>\n",
       "      <td>0.00</td>\n",
       "      <td>0.00</td>\n",
       "      <td>0.50</td>\n",
       "    </tr>\n",
       "    <tr>\n",
       "      <th>4486906</th>\n",
       "      <td>13634</td>\n",
       "      <td>282</td>\n",
       "      <td>4.00</td>\n",
       "      <td>1299619302.00</td>\n",
       "      <td>1.00</td>\n",
       "      <td>1.00</td>\n",
       "    </tr>\n",
       "    <tr>\n",
       "      <th>151051</th>\n",
       "      <td>449</td>\n",
       "      <td>337</td>\n",
       "      <td>4.00</td>\n",
       "      <td>1296174982.00</td>\n",
       "      <td>1.00</td>\n",
       "      <td>0.50</td>\n",
       "    </tr>\n",
       "    <tr>\n",
       "      <th>5588817</th>\n",
       "      <td>17822</td>\n",
       "      <td>459</td>\n",
       "      <td>4.00</td>\n",
       "      <td>1360109732.00</td>\n",
       "      <td>1.00</td>\n",
       "      <td>1.00</td>\n",
       "    </tr>\n",
       "    <tr>\n",
       "      <th>10719956</th>\n",
       "      <td>7438</td>\n",
       "      <td>464</td>\n",
       "      <td>0.00</td>\n",
       "      <td>0.00</td>\n",
       "      <td>0.00</td>\n",
       "      <td>0.00</td>\n",
       "    </tr>\n",
       "  </tbody>\n",
       "</table>\n",
       "</div>"
      ],
      "text/plain": [
       "          userId  movieId  rating     timestamp  watched  predict_user_based\n",
       "6792316     1905      528    0.00          0.00     0.00                0.50\n",
       "4486906    13634      282    4.00 1299619302.00     1.00                1.00\n",
       "151051       449      337    4.00 1296174982.00     1.00                0.50\n",
       "5588817    17822      459    4.00 1360109732.00     1.00                1.00\n",
       "10719956    7438      464    0.00          0.00     0.00                0.00"
      ]
     },
     "execution_count": 97,
     "metadata": {},
     "output_type": "execute_result"
    }
   ],
   "source": [
    "test.head()"
   ]
  },
  {
   "cell_type": "code",
   "execution_count": 98,
   "metadata": {},
   "outputs": [],
   "source": [
    "prediction = np.where(test['predict_user_based']>= 0.5, 1, 0)\n",
    "roc_auc_user_based = round(roc_auc_score(prediction, test['watched']), 4)"
   ]
  },
  {
   "cell_type": "code",
   "execution_count": 101,
   "metadata": {},
   "outputs": [
    {
     "data": {
      "text/html": [
       "<style type=\"text/css\">\n",
       "#T_5d510_row1_col0, #T_5d510_row2_col0, #T_5d510_row3_col0 {\n",
       "  background-color: #5C61;\n",
       "}\n",
       "</style>\n",
       "<table id=\"T_5d510\">\n",
       "  <thead>\n",
       "    <tr>\n",
       "      <th class=\"blank level0\" >&nbsp;</th>\n",
       "      <th id=\"T_5d510_level0_col0\" class=\"col_heading level0 col0\" >ROC-AUC</th>\n",
       "    </tr>\n",
       "  </thead>\n",
       "  <tbody>\n",
       "    <tr>\n",
       "      <th id=\"T_5d510_level0_row0\" class=\"row_heading level0 row0\" >dummy_model</th>\n",
       "      <td id=\"T_5d510_row0_col0\" class=\"data row0 col0\" >0.500400</td>\n",
       "    </tr>\n",
       "    <tr>\n",
       "      <th id=\"T_5d510_level0_row1\" class=\"row_heading level0 row1\" >user_based</th>\n",
       "      <td id=\"T_5d510_row1_col0\" class=\"data row1 col0\" >0.779100</td>\n",
       "    </tr>\n",
       "    <tr>\n",
       "      <th id=\"T_5d510_level0_row2\" class=\"row_heading level0 row2\" >2</th>\n",
       "      <td id=\"T_5d510_row2_col0\" class=\"data row2 col0\" >0.779100</td>\n",
       "    </tr>\n",
       "    <tr>\n",
       "      <th id=\"T_5d510_level0_row3\" class=\"row_heading level0 row3\" >3</th>\n",
       "      <td id=\"T_5d510_row3_col0\" class=\"data row3 col0\" >0.779100</td>\n",
       "    </tr>\n",
       "  </tbody>\n",
       "</table>\n"
      ],
      "text/plain": [
       "<pandas.io.formats.style.Styler at 0x187c454a890>"
      ]
     },
     "execution_count": 101,
     "metadata": {},
     "output_type": "execute_result"
    }
   ],
   "source": [
    "data_res.loc[len(data_res.index)] = [roc_auc_user_based]\n",
    "data_res = data_res.rename(index={1: 'user_based'})\n",
    "data_res.style.highlight_max(axis=0, color='#5C61')"
   ]
  },
  {
   "cell_type": "markdown",
   "metadata": {},
   "source": [
    "ROC-AUC лучше, чем на dummy_model"
   ]
  },
  {
   "cell_type": "code",
   "execution_count": 102,
   "metadata": {},
   "outputs": [],
   "source": [
    "top = 10\n",
    "top_similar_movies = []\n",
    "for i in range(n_movies):\n",
    "    neighbors = (movie_similarity[i]).argsort()[1:top + 1]\n",
    "    top_similar_movies.append( train_data_matrix.T[neighbors])\n",
    "top_similar_movies = np.array(top_similar_movies)"
   ]
  },
  {
   "cell_type": "code",
   "execution_count": 104,
   "metadata": {},
   "outputs": [
    {
     "data": {
      "text/plain": [
       "(1000, 10, 20000)"
      ]
     },
     "execution_count": 104,
     "metadata": {},
     "output_type": "execute_result"
    }
   ],
   "source": [
    "top_similar_movies.shape"
   ]
  },
  {
   "cell_type": "markdown",
   "metadata": {},
   "source": [
    "Необходимо просчитать среднее значение популярности для пользователя"
   ]
  },
  {
   "cell_type": "code",
   "execution_count": 105,
   "metadata": {},
   "outputs": [
    {
     "data": {
      "text/plain": [
       "(20000, 1000)"
      ]
     },
     "execution_count": 105,
     "metadata": {},
     "output_type": "execute_result"
    }
   ],
   "source": [
    "predicted_movies_watched_item_based = top_similar_movies.mean(1).T\n",
    "predicted_movies_watched_item_based.shape"
   ]
  },
  {
   "cell_type": "markdown",
   "metadata": {},
   "source": [
    "Предсказание для тестового датасета"
   ]
  },
  {
   "cell_type": "code",
   "execution_count": 109,
   "metadata": {},
   "outputs": [],
   "source": [
    "test['predict_item_based'] = test.apply(lambda f: round_to_nearest_0_5(predicted_movies_watched_item_based[int(f['userId']),\\\n",
    "                                                                                                          int(f['movieId'])]), axis=1)"
   ]
  },
  {
   "cell_type": "code",
   "execution_count": 110,
   "metadata": {},
   "outputs": [
    {
     "data": {
      "text/html": [
       "<div>\n",
       "<style scoped>\n",
       "    .dataframe tbody tr th:only-of-type {\n",
       "        vertical-align: middle;\n",
       "    }\n",
       "\n",
       "    .dataframe tbody tr th {\n",
       "        vertical-align: top;\n",
       "    }\n",
       "\n",
       "    .dataframe thead th {\n",
       "        text-align: right;\n",
       "    }\n",
       "</style>\n",
       "<table border=\"1\" class=\"dataframe\">\n",
       "  <thead>\n",
       "    <tr style=\"text-align: right;\">\n",
       "      <th></th>\n",
       "      <th>userId</th>\n",
       "      <th>movieId</th>\n",
       "      <th>rating</th>\n",
       "      <th>timestamp</th>\n",
       "      <th>watched</th>\n",
       "      <th>predict_user_based</th>\n",
       "      <th>predict_item_based</th>\n",
       "    </tr>\n",
       "  </thead>\n",
       "  <tbody>\n",
       "    <tr>\n",
       "      <th>6792316</th>\n",
       "      <td>1905</td>\n",
       "      <td>528</td>\n",
       "      <td>0.00</td>\n",
       "      <td>0.00</td>\n",
       "      <td>0.00</td>\n",
       "      <td>0.50</td>\n",
       "      <td>0.50</td>\n",
       "    </tr>\n",
       "    <tr>\n",
       "      <th>4486906</th>\n",
       "      <td>13634</td>\n",
       "      <td>282</td>\n",
       "      <td>4.00</td>\n",
       "      <td>1299619302.00</td>\n",
       "      <td>1.00</td>\n",
       "      <td>1.00</td>\n",
       "      <td>1.00</td>\n",
       "    </tr>\n",
       "    <tr>\n",
       "      <th>151051</th>\n",
       "      <td>449</td>\n",
       "      <td>337</td>\n",
       "      <td>4.00</td>\n",
       "      <td>1296174982.00</td>\n",
       "      <td>1.00</td>\n",
       "      <td>0.50</td>\n",
       "      <td>1.00</td>\n",
       "    </tr>\n",
       "    <tr>\n",
       "      <th>5588817</th>\n",
       "      <td>17822</td>\n",
       "      <td>459</td>\n",
       "      <td>4.00</td>\n",
       "      <td>1360109732.00</td>\n",
       "      <td>1.00</td>\n",
       "      <td>1.00</td>\n",
       "      <td>1.00</td>\n",
       "    </tr>\n",
       "    <tr>\n",
       "      <th>10719956</th>\n",
       "      <td>7438</td>\n",
       "      <td>464</td>\n",
       "      <td>0.00</td>\n",
       "      <td>0.00</td>\n",
       "      <td>0.00</td>\n",
       "      <td>0.00</td>\n",
       "      <td>0.00</td>\n",
       "    </tr>\n",
       "  </tbody>\n",
       "</table>\n",
       "</div>"
      ],
      "text/plain": [
       "          userId  movieId  rating     timestamp  watched  predict_user_based  \\\n",
       "6792316     1905      528    0.00          0.00     0.00                0.50   \n",
       "4486906    13634      282    4.00 1299619302.00     1.00                1.00   \n",
       "151051       449      337    4.00 1296174982.00     1.00                0.50   \n",
       "5588817    17822      459    4.00 1360109732.00     1.00                1.00   \n",
       "10719956    7438      464    0.00          0.00     0.00                0.00   \n",
       "\n",
       "          predict_item_based  \n",
       "6792316                 0.50  \n",
       "4486906                 1.00  \n",
       "151051                  1.00  \n",
       "5588817                 1.00  \n",
       "10719956                0.00  "
      ]
     },
     "execution_count": 110,
     "metadata": {},
     "output_type": "execute_result"
    }
   ],
   "source": [
    "test.head()"
   ]
  },
  {
   "cell_type": "code",
   "execution_count": 111,
   "metadata": {},
   "outputs": [],
   "source": [
    "prediction = np.where(test['predict_item_based']>= 0.5 , 1 , 0)\n",
    "roc_auc_item_based = round(roc_auc_score(prediction, test['watched']), 4)"
   ]
  },
  {
   "cell_type": "code",
   "execution_count": 113,
   "metadata": {},
   "outputs": [
    {
     "data": {
      "text/html": [
       "<style type=\"text/css\">\n",
       "#T_9da76_row1_col0, #T_9da76_row2_col0, #T_9da76_row3_col0 {\n",
       "  background-color: #5C61;\n",
       "}\n",
       "</style>\n",
       "<table id=\"T_9da76\">\n",
       "  <thead>\n",
       "    <tr>\n",
       "      <th class=\"blank level0\" >&nbsp;</th>\n",
       "      <th id=\"T_9da76_level0_col0\" class=\"col_heading level0 col0\" >ROC-AUC</th>\n",
       "    </tr>\n",
       "  </thead>\n",
       "  <tbody>\n",
       "    <tr>\n",
       "      <th id=\"T_9da76_level0_row0\" class=\"row_heading level0 row0\" >dummy_model</th>\n",
       "      <td id=\"T_9da76_row0_col0\" class=\"data row0 col0\" >0.500400</td>\n",
       "    </tr>\n",
       "    <tr>\n",
       "      <th id=\"T_9da76_level0_row1\" class=\"row_heading level0 row1\" >user_based</th>\n",
       "      <td id=\"T_9da76_row1_col0\" class=\"data row1 col0\" >0.779100</td>\n",
       "    </tr>\n",
       "    <tr>\n",
       "      <th id=\"T_9da76_level0_row2\" class=\"row_heading level0 row2\" >item_based</th>\n",
       "      <td id=\"T_9da76_row2_col0\" class=\"data row2 col0\" >0.779100</td>\n",
       "    </tr>\n",
       "    <tr>\n",
       "      <th id=\"T_9da76_level0_row3\" class=\"row_heading level0 row3\" >3</th>\n",
       "      <td id=\"T_9da76_row3_col0\" class=\"data row3 col0\" >0.779100</td>\n",
       "    </tr>\n",
       "    <tr>\n",
       "      <th id=\"T_9da76_level0_row4\" class=\"row_heading level0 row4\" >4</th>\n",
       "      <td id=\"T_9da76_row4_col0\" class=\"data row4 col0\" >0.768800</td>\n",
       "    </tr>\n",
       "    <tr>\n",
       "      <th id=\"T_9da76_level0_row5\" class=\"row_heading level0 row5\" >5</th>\n",
       "      <td id=\"T_9da76_row5_col0\" class=\"data row5 col0\" >0.768800</td>\n",
       "    </tr>\n",
       "  </tbody>\n",
       "</table>\n"
      ],
      "text/plain": [
       "<pandas.io.formats.style.Styler at 0x187c37cf4d0>"
      ]
     },
     "execution_count": 113,
     "metadata": {},
     "output_type": "execute_result"
    }
   ],
   "source": [
    "data_res.loc[len(data_res.index)] = [roc_auc_item_based]\n",
    "data_res = data_res.rename(index={2: 'item_based'})\n",
    "data_res.style.highlight_max(axis=0, color='#5C61')"
   ]
  },
  {
   "cell_type": "markdown",
   "metadata": {},
   "source": [
    "ITEM_BASED подход немного хуже чем user_based (0.768 и 0.779 соответственно), но все равно лучше dummy_model"
   ]
  },
  {
   "cell_type": "markdown",
   "metadata": {},
   "source": [
    "SVD"
   ]
  },
  {
   "cell_type": "code",
   "execution_count": 114,
   "metadata": {},
   "outputs": [],
   "source": [
    "train_data_matrix = train_data_matrix.astype(float)"
   ]
  },
  {
   "cell_type": "code",
   "execution_count": 115,
   "metadata": {},
   "outputs": [
    {
     "name": "stdout",
     "output_type": "stream",
     "text": [
      "CPU times: total: 9.91 s\n",
      "Wall time: 2.39 s\n"
     ]
    }
   ],
   "source": [
    "%%time\n",
    "u, s, vh = svds(train_data_matrix, k=50)\n",
    "s_diag_matrix = np.diag(s)\n",
    "\n",
    "users = np.dot(u, s_diag_matrix)\n",
    "items = vh.T "
   ]
  },
  {
   "cell_type": "code",
   "execution_count": 116,
   "metadata": {},
   "outputs": [
    {
     "data": {
      "text/plain": [
       "((50, 50), (20000, 50), (1000, 50))"
      ]
     },
     "execution_count": 116,
     "metadata": {},
     "output_type": "execute_result"
    }
   ],
   "source": [
    "np.diag(s).shape, users.shape, items.shape"
   ]
  },
  {
   "cell_type": "code",
   "execution_count": 117,
   "metadata": {},
   "outputs": [],
   "source": [
    "test['svd_prediction'] = test.apply(\n",
    "    lambda f: round_to_nearest_0_5(np.dot(users[int(f['userId'])], items[int(f['movieId'])])), axis=1\n",
    ")"
   ]
  },
  {
   "cell_type": "code",
   "execution_count": 118,
   "metadata": {},
   "outputs": [
    {
     "data": {
      "text/html": [
       "<div>\n",
       "<style scoped>\n",
       "    .dataframe tbody tr th:only-of-type {\n",
       "        vertical-align: middle;\n",
       "    }\n",
       "\n",
       "    .dataframe tbody tr th {\n",
       "        vertical-align: top;\n",
       "    }\n",
       "\n",
       "    .dataframe thead th {\n",
       "        text-align: right;\n",
       "    }\n",
       "</style>\n",
       "<table border=\"1\" class=\"dataframe\">\n",
       "  <thead>\n",
       "    <tr style=\"text-align: right;\">\n",
       "      <th></th>\n",
       "      <th>userId</th>\n",
       "      <th>movieId</th>\n",
       "      <th>rating</th>\n",
       "      <th>timestamp</th>\n",
       "      <th>watched</th>\n",
       "      <th>predict_user_based</th>\n",
       "      <th>predict_item_based</th>\n",
       "      <th>svd_prediction</th>\n",
       "    </tr>\n",
       "  </thead>\n",
       "  <tbody>\n",
       "    <tr>\n",
       "      <th>6792316</th>\n",
       "      <td>1905</td>\n",
       "      <td>528</td>\n",
       "      <td>0.00</td>\n",
       "      <td>0.00</td>\n",
       "      <td>0.00</td>\n",
       "      <td>0.50</td>\n",
       "      <td>0.50</td>\n",
       "      <td>0.50</td>\n",
       "    </tr>\n",
       "    <tr>\n",
       "      <th>4486906</th>\n",
       "      <td>13634</td>\n",
       "      <td>282</td>\n",
       "      <td>4.00</td>\n",
       "      <td>1299619302.00</td>\n",
       "      <td>1.00</td>\n",
       "      <td>1.00</td>\n",
       "      <td>1.00</td>\n",
       "      <td>1.00</td>\n",
       "    </tr>\n",
       "    <tr>\n",
       "      <th>151051</th>\n",
       "      <td>449</td>\n",
       "      <td>337</td>\n",
       "      <td>4.00</td>\n",
       "      <td>1296174982.00</td>\n",
       "      <td>1.00</td>\n",
       "      <td>0.50</td>\n",
       "      <td>1.00</td>\n",
       "      <td>0.50</td>\n",
       "    </tr>\n",
       "    <tr>\n",
       "      <th>5588817</th>\n",
       "      <td>17822</td>\n",
       "      <td>459</td>\n",
       "      <td>4.00</td>\n",
       "      <td>1360109732.00</td>\n",
       "      <td>1.00</td>\n",
       "      <td>1.00</td>\n",
       "      <td>1.00</td>\n",
       "      <td>0.50</td>\n",
       "    </tr>\n",
       "    <tr>\n",
       "      <th>10719956</th>\n",
       "      <td>7438</td>\n",
       "      <td>464</td>\n",
       "      <td>0.00</td>\n",
       "      <td>0.00</td>\n",
       "      <td>0.00</td>\n",
       "      <td>0.00</td>\n",
       "      <td>0.00</td>\n",
       "      <td>0.00</td>\n",
       "    </tr>\n",
       "  </tbody>\n",
       "</table>\n",
       "</div>"
      ],
      "text/plain": [
       "          userId  movieId  rating     timestamp  watched  predict_user_based  \\\n",
       "6792316     1905      528    0.00          0.00     0.00                0.50   \n",
       "4486906    13634      282    4.00 1299619302.00     1.00                1.00   \n",
       "151051       449      337    4.00 1296174982.00     1.00                0.50   \n",
       "5588817    17822      459    4.00 1360109732.00     1.00                1.00   \n",
       "10719956    7438      464    0.00          0.00     0.00                0.00   \n",
       "\n",
       "          predict_item_based  svd_prediction  \n",
       "6792316                 0.50            0.50  \n",
       "4486906                 1.00            1.00  \n",
       "151051                  1.00            0.50  \n",
       "5588817                 1.00            0.50  \n",
       "10719956                0.00            0.00  "
      ]
     },
     "execution_count": 118,
     "metadata": {},
     "output_type": "execute_result"
    }
   ],
   "source": [
    "test.head()"
   ]
  },
  {
   "cell_type": "code",
   "execution_count": 120,
   "metadata": {},
   "outputs": [],
   "source": [
    "prediction = np.where(test['svd_prediction']>= 0.5, 1, 0)\n",
    "roc_auc_svd = round(roc_auc_score(prediction, test['watched']), 4)"
   ]
  },
  {
   "cell_type": "code",
   "execution_count": 121,
   "metadata": {},
   "outputs": [
    {
     "data": {
      "text/html": [
       "<style type=\"text/css\">\n",
       "#T_baad2_row6_col0 {\n",
       "  background-color: #5C61;\n",
       "}\n",
       "</style>\n",
       "<table id=\"T_baad2\">\n",
       "  <thead>\n",
       "    <tr>\n",
       "      <th class=\"blank level0\" >&nbsp;</th>\n",
       "      <th id=\"T_baad2_level0_col0\" class=\"col_heading level0 col0\" >ROC-AUC</th>\n",
       "    </tr>\n",
       "  </thead>\n",
       "  <tbody>\n",
       "    <tr>\n",
       "      <th id=\"T_baad2_level0_row0\" class=\"row_heading level0 row0\" >dummy_model</th>\n",
       "      <td id=\"T_baad2_row0_col0\" class=\"data row0 col0\" >0.500400</td>\n",
       "    </tr>\n",
       "    <tr>\n",
       "      <th id=\"T_baad2_level0_row1\" class=\"row_heading level0 row1\" >user_based</th>\n",
       "      <td id=\"T_baad2_row1_col0\" class=\"data row1 col0\" >0.779100</td>\n",
       "    </tr>\n",
       "    <tr>\n",
       "      <th id=\"T_baad2_level0_row2\" class=\"row_heading level0 row2\" >item_based</th>\n",
       "      <td id=\"T_baad2_row2_col0\" class=\"data row2 col0\" >0.779100</td>\n",
       "    </tr>\n",
       "    <tr>\n",
       "      <th id=\"T_baad2_level0_row3\" class=\"row_heading level0 row3\" >3</th>\n",
       "      <td id=\"T_baad2_row3_col0\" class=\"data row3 col0\" >0.779100</td>\n",
       "    </tr>\n",
       "    <tr>\n",
       "      <th id=\"T_baad2_level0_row4\" class=\"row_heading level0 row4\" >svd_prediction</th>\n",
       "      <td id=\"T_baad2_row4_col0\" class=\"data row4 col0\" >0.768800</td>\n",
       "    </tr>\n",
       "    <tr>\n",
       "      <th id=\"T_baad2_level0_row5\" class=\"row_heading level0 row5\" >5</th>\n",
       "      <td id=\"T_baad2_row5_col0\" class=\"data row5 col0\" >0.768800</td>\n",
       "    </tr>\n",
       "    <tr>\n",
       "      <th id=\"T_baad2_level0_row6\" class=\"row_heading level0 row6\" >6</th>\n",
       "      <td id=\"T_baad2_row6_col0\" class=\"data row6 col0\" >0.813400</td>\n",
       "    </tr>\n",
       "  </tbody>\n",
       "</table>\n"
      ],
      "text/plain": [
       "<pandas.io.formats.style.Styler at 0x186a0b6b310>"
      ]
     },
     "execution_count": 121,
     "metadata": {},
     "output_type": "execute_result"
    }
   ],
   "source": [
    "data_res.loc[len(data_res.index)] = [roc_auc_svd]\n",
    "data_res = data_res.rename(index={4: 'svd_prediction'})\n",
    "data_res.style.highlight_max(axis=0, color='#5C61')"
   ]
  },
  {
   "cell_type": "markdown",
   "metadata": {},
   "source": [
    "было реализовано три алгоритма коллаборативной фильтрации: user,item-based и алгоритм на основе матричной факторизации. Наилучшее значение принимает SVD => этот алгоритм справился лучше всего с отработкой рекомендаций"
   ]
  }
 ],
 "metadata": {
  "kernelspec": {
   "display_name": "Python 3",
   "language": "python",
   "name": "python3"
  },
  "language_info": {
   "codemirror_mode": {
    "name": "ipython",
    "version": 3
   },
   "file_extension": ".py",
   "mimetype": "text/x-python",
   "name": "python",
   "nbconvert_exporter": "python",
   "pygments_lexer": "ipython3",
   "version": "3.11.4"
  },
  "orig_nbformat": 4
 },
 "nbformat": 4,
 "nbformat_minor": 2
}
